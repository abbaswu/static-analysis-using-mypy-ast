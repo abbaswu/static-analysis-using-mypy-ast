{
 "cells": [
  {
   "cell_type": "markdown",
   "id": "6dfb2c46",
   "metadata": {},
   "source": [
    "Let's analyze the modules with the prefix `test_modules` in the current directory."
   ]
  },
  {
   "cell_type": "code",
   "execution_count": 1,
   "id": "bdda3498",
   "metadata": {},
   "outputs": [],
   "source": [
    "from mypy_static_analysis import mypy_static_analysis\n",
    "from get_module_names_and_file_paths_for_pure_python_project import get_module_names_and_file_paths_for_pure_python_project\n",
    "\n",
    "\n",
    "project_path = '.'\n",
    "module_prefix = 'test_modules'\n",
    "\n",
    "\n",
    "def module_name_starts_with_prefix(\n",
    "    module_name: str,\n",
    "    prefix: str\n",
    ") -> bool:\n",
    "    module_name_components = module_name.split('.')\n",
    "    prefix_components = prefix.split('.')\n",
    "\n",
    "    return module_name_components[:len(prefix_components)] == prefix_components\n",
    "\n",
    "module_names_to_file_paths = {\n",
    "    module_name: file_path\n",
    "    for module_name, file_path\n",
    "    in get_module_names_and_file_paths_for_pure_python_project(project_path)\n",
    "    if module_name_starts_with_prefix(module_name, module_prefix)\n",
    "}\n",
    "\n",
    "result = mypy_static_analysis(project_path, module_names_to_file_paths)"
   ]
  },
  {
   "cell_type": "markdown",
   "id": "6d7dad66",
   "metadata": {},
   "source": [
    "Any errors?"
   ]
  },
  {
   "cell_type": "code",
   "execution_count": 2,
   "id": "08f99fa3",
   "metadata": {},
   "outputs": [
    {
     "data": {
      "text/plain": [
       "[\"test_modules/function_class_definition_and_imports.py:1: error: No library stub file for module 'numpy'\",\n",
       " \"test_modules/nested_class_and_nested_async_function.py:1: error: No library stub file for module 'aiohttp'\",\n",
       " 'test_modules/nested_class_and_nested_async_function.py:1: note: (Stub files are from https://github.com/python/typeshed)']"
      ]
     },
     "execution_count": 2,
     "metadata": {},
     "output_type": "execute_result"
    }
   ],
   "source": [
    "result.errors"
   ]
  },
  {
   "cell_type": "markdown",
   "id": "659629a7",
   "metadata": {},
   "source": [
    "Let's check out the module `test_modules.function_class_definition_and_imports`, which starts with:\n",
    "\n",
    "```python\n",
    "import numpy as np\n",
    "\n",
    "def shell_sort(collection):\n",
    "    xs = [701, 301, 132, 57, 23, 10, 4, 1]\n",
    "    for x in xs:\n",
    "        i = x\n",
    "        while i < len(collection):\n",
    "            temp = collection[i]\n",
    "            j = i\n",
    "            while j >= x and collection[j - x] > temp:\n",
    "                collection[j] = collection[j - x]\n",
    "                j -= x\n",
    "            collection[j] = temp\n",
    "            i += 1\n",
    "    return collection\n",
    "\n",
    "\n",
    "def set_x():\n",
    "    global x\n",
    "    x = 2\n",
    "    shell_sort([1,2,3,4])\n",
    "```"
   ]
  },
  {
   "cell_type": "code",
   "execution_count": 3,
   "id": "cc5dbbce",
   "metadata": {},
   "outputs": [
    {
     "data": {
      "text/plain": [
       "dict_keys(['test_modules', 'test_modules.nested_class_and_nested_async_function', 'test_modules.all_syntax_constructs', 'test_modules.multiple_inheritance', 'test_modules.function_class_definition_and_imports', 'builtins', 'asyncio', 're', 'random', 'time', 'typing', 'abc', 'ast', 'types', 'sys', 'asyncio.coroutines', 'asyncio.protocols', 'asyncio.streams', 'asyncio.subprocess', 'asyncio.transports', 'asyncio.futures', 'asyncio.tasks', 'asyncio.base_events', 'asyncio.events', 'asyncio.queues', 'asyncio.locks', 'asyncio.runners', 'enum', '_random', 'collections', 'typing_extensions', '_ast', '_importlib_modulespec', 'importlib.abc', 'os', 'concurrent.futures', 'contextvars', 'concurrent', 'selectors', 'socket', 'ssl', 'collections.abc', 'importlib', 'io', 'os.path', 'posix', 'concurrent.futures._base', 'concurrent.futures.thread', 'concurrent.futures.process', 'codecs', 'mmap', 'multiprocessing.context', 'multiprocessing', 'logging', 'multiprocessing.synchronize', 'multiprocessing.queues', 'multiprocessing.connection', 'multiprocessing.pool', 'multiprocessing.spawn', 'multiprocessing.managers', 'multiprocessing.process', 'string', 'threading', 'queue'])"
      ]
     },
     "execution_count": 3,
     "metadata": {},
     "output_type": "execute_result"
    }
   ],
   "source": [
    "result.graph.keys()"
   ]
  },
  {
   "cell_type": "code",
   "execution_count": 4,
   "id": "807a02e6",
   "metadata": {},
   "outputs": [
    {
     "data": {
      "text/plain": [
       "<mypy.build.State at 0x786a1c263cb0>"
      ]
     },
     "execution_count": 4,
     "metadata": {},
     "output_type": "execute_result"
    }
   ],
   "source": [
    "result.graph['test_modules.function_class_definition_and_imports']"
   ]
  },
  {
   "cell_type": "code",
   "execution_count": 5,
   "id": "cc8613c2",
   "metadata": {},
   "outputs": [
    {
     "data": {
      "text/plain": [
       "<mypy.nodes.MypyFile at 0x786a1c216410>"
      ]
     },
     "execution_count": 5,
     "metadata": {},
     "output_type": "execute_result"
    }
   ],
   "source": [
    "result.graph['test_modules.function_class_definition_and_imports'].tree"
   ]
  },
  {
   "cell_type": "code",
   "execution_count": 6,
   "id": "a5fc2cda",
   "metadata": {},
   "outputs": [],
   "source": [
    "mypy_file = result.graph['test_modules.function_class_definition_and_imports'].tree"
   ]
  },
  {
   "cell_type": "markdown",
   "id": "c2cbdb90",
   "metadata": {},
   "source": [
    "Let's look at its defs."
   ]
  },
  {
   "cell_type": "code",
   "execution_count": 7,
   "id": "8f5177c9",
   "metadata": {},
   "outputs": [
    {
     "data": {
      "text/plain": [
       "[<mypy.nodes.Import at 0x786a1c27ed70>,\n",
       " <mypy.nodes.FuncDef at 0x786a1c269e20>,\n",
       " <mypy.nodes.FuncDef at 0x786a1c269ef0>,\n",
       " <mypy.nodes.ImportFrom at 0x786a1c23d8d0>,\n",
       " <mypy.nodes.ImportFrom at 0x786a1c23d950>,\n",
       " <mypy.nodes.FuncDef at 0x786a1c1c2050>,\n",
       " <mypy.nodes.AssignmentStmt at 0x786a1c23da50>,\n",
       " <mypy.nodes.ExpressionStmt at 0x786a1c1c15f0>,\n",
       " <mypy.nodes.ClassDef at 0x786a1c21a7e0>,\n",
       " <mypy.nodes.AssignmentStmt at 0x786a1c1c7ad0>,\n",
       " <mypy.nodes.ExpressionStmt at 0x786a1c1c67d0>]"
      ]
     },
     "execution_count": 7,
     "metadata": {},
     "output_type": "execute_result"
    }
   ],
   "source": [
    "mypy_file.defs"
   ]
  },
  {
   "cell_type": "markdown",
   "id": "7b07875e",
   "metadata": {},
   "source": [
    "# Name Resolution"
   ]
  },
  {
   "cell_type": "markdown",
   "id": "515c40a2",
   "metadata": {},
   "source": [
    "Let's look at the definition for `shell_sort`."
   ]
  },
  {
   "cell_type": "code",
   "execution_count": 8,
   "id": "42483847",
   "metadata": {},
   "outputs": [],
   "source": [
    "func_def = mypy_file.defs[1]"
   ]
  },
  {
   "cell_type": "code",
   "execution_count": 9,
   "id": "a0c59343",
   "metadata": {},
   "outputs": [
    {
     "data": {
      "text/plain": [
       "<mypy.nodes.FuncDef at 0x786a1c269e20>"
      ]
     },
     "execution_count": 9,
     "metadata": {},
     "output_type": "execute_result"
    }
   ],
   "source": [
    "func_def"
   ]
  },
  {
   "cell_type": "code",
   "execution_count": 10,
   "id": "657d9925",
   "metadata": {},
   "outputs": [
    {
     "data": {
      "text/plain": [
       "<mypy.nodes.Block at 0x786a1c1c1170>"
      ]
     },
     "execution_count": 10,
     "metadata": {},
     "output_type": "execute_result"
    }
   ],
   "source": [
    "func_def.body"
   ]
  },
  {
   "cell_type": "code",
   "execution_count": 11,
   "id": "e6942e10",
   "metadata": {},
   "outputs": [
    {
     "data": {
      "text/plain": [
       "[<mypy.nodes.AssignmentStmt at 0x786a1c236250>,\n",
       " <mypy.nodes.ForStmt at 0x786a1c2164b0>,\n",
       " <mypy.nodes.ReturnStmt at 0x786a1c1c1110>]"
      ]
     },
     "execution_count": 11,
     "metadata": {},
     "output_type": "execute_result"
    }
   ],
   "source": [
    "func_def.body.body"
   ]
  },
  {
   "cell_type": "markdown",
   "id": "6c163b81",
   "metadata": {},
   "source": [
    "Let's look at the `xs` in `xs = [701, 301, 132, 57, 23, 10, 4, 1]` and the `xs` in `for x in xs:`"
   ]
  },
  {
   "cell_type": "code",
   "execution_count": 12,
   "id": "cc353e03",
   "metadata": {},
   "outputs": [
    {
     "data": {
      "text/plain": [
       "<mypy.nodes.AssignmentStmt at 0x786a1c236250>"
      ]
     },
     "execution_count": 12,
     "metadata": {},
     "output_type": "execute_result"
    }
   ],
   "source": [
    "func_def.body.body[0]"
   ]
  },
  {
   "cell_type": "code",
   "execution_count": 13,
   "id": "9e13bc72",
   "metadata": {},
   "outputs": [
    {
     "data": {
      "text/plain": [
       "[<mypy.nodes.NameExpr at 0x786a1c2361d0>]"
      ]
     },
     "execution_count": 13,
     "metadata": {},
     "output_type": "execute_result"
    }
   ],
   "source": [
    "func_def.body.body[0].lvalues"
   ]
  },
  {
   "cell_type": "code",
   "execution_count": 14,
   "id": "1561e271",
   "metadata": {},
   "outputs": [
    {
     "data": {
      "text/plain": [
       "<mypy.nodes.NameExpr at 0x786a1c2361d0>"
      ]
     },
     "execution_count": 14,
     "metadata": {},
     "output_type": "execute_result"
    }
   ],
   "source": [
    "func_def.body.body[0].lvalues[0]"
   ]
  },
  {
   "cell_type": "code",
   "execution_count": 15,
   "id": "54b29593",
   "metadata": {},
   "outputs": [
    {
     "data": {
      "text/plain": [
       "<mypy.nodes.Var at 0x786a052748c0>"
      ]
     },
     "execution_count": 15,
     "metadata": {},
     "output_type": "execute_result"
    }
   ],
   "source": [
    "func_def.body.body[0].lvalues[0].node"
   ]
  },
  {
   "cell_type": "code",
   "execution_count": 16,
   "id": "7653443b",
   "metadata": {},
   "outputs": [
    {
     "data": {
      "text/plain": [
       "<mypy.nodes.ForStmt at 0x786a1c2164b0>"
      ]
     },
     "execution_count": 16,
     "metadata": {},
     "output_type": "execute_result"
    }
   ],
   "source": [
    "func_def.body.body[1]"
   ]
  },
  {
   "cell_type": "code",
   "execution_count": 17,
   "id": "62f6c4fd",
   "metadata": {},
   "outputs": [
    {
     "data": {
      "text/plain": [
       "<mypy.nodes.NameExpr at 0x786a1c236350>"
      ]
     },
     "execution_count": 17,
     "metadata": {},
     "output_type": "execute_result"
    }
   ],
   "source": [
    "func_def.body.body[1].expr"
   ]
  },
  {
   "cell_type": "code",
   "execution_count": 18,
   "id": "5cf7108c",
   "metadata": {},
   "outputs": [
    {
     "data": {
      "text/plain": [
       "<mypy.nodes.Var at 0x786a052748c0>"
      ]
     },
     "execution_count": 18,
     "metadata": {},
     "output_type": "execute_result"
    }
   ],
   "source": [
    "func_def.body.body[1].expr.node"
   ]
  },
  {
   "cell_type": "code",
   "execution_count": 19,
   "id": "f9ac0d19",
   "metadata": {},
   "outputs": [
    {
     "data": {
      "text/plain": [
       "True"
      ]
     },
     "execution_count": 19,
     "metadata": {},
     "output_type": "execute_result"
    }
   ],
   "source": [
    "func_def.body.body[0].lvalues[0].node is func_def.body.body[1].expr.node"
   ]
  },
  {
   "cell_type": "markdown",
   "id": "4e5d9249",
   "metadata": {},
   "source": [
    "They are referring to the same node!"
   ]
  },
  {
   "cell_type": "markdown",
   "id": "749f5e12",
   "metadata": {},
   "source": [
    "Let's look at the `len` in `len(collection)`."
   ]
  },
  {
   "cell_type": "code",
   "execution_count": 20,
   "id": "522da220",
   "metadata": {},
   "outputs": [
    {
     "data": {
      "text/plain": [
       "<mypy.nodes.Block at 0x786a1c1c10b0>"
      ]
     },
     "execution_count": 20,
     "metadata": {},
     "output_type": "execute_result"
    }
   ],
   "source": [
    "func_def.body.body[1].body"
   ]
  },
  {
   "cell_type": "code",
   "execution_count": 21,
   "id": "4a70abc7",
   "metadata": {},
   "outputs": [
    {
     "data": {
      "text/plain": [
       "[<mypy.nodes.AssignmentStmt at 0x786a1c2364d0>,\n",
       " <mypy.nodes.WhileStmt at 0x786a1c23f280>]"
      ]
     },
     "execution_count": 21,
     "metadata": {},
     "output_type": "execute_result"
    }
   ],
   "source": [
    "func_def.body.body[1].body.body"
   ]
  },
  {
   "cell_type": "code",
   "execution_count": 22,
   "id": "0b446525",
   "metadata": {},
   "outputs": [
    {
     "data": {
      "text/plain": [
       "<mypy.nodes.WhileStmt at 0x786a1c23f280>"
      ]
     },
     "execution_count": 22,
     "metadata": {},
     "output_type": "execute_result"
    }
   ],
   "source": [
    "func_def.body.body[1].body.body[1]"
   ]
  },
  {
   "cell_type": "code",
   "execution_count": 23,
   "id": "67196da1",
   "metadata": {},
   "outputs": [
    {
     "data": {
      "text/plain": [
       "<mypy.nodes.ComparisonExpr at 0x786a1c27ed00>"
      ]
     },
     "execution_count": 23,
     "metadata": {},
     "output_type": "execute_result"
    }
   ],
   "source": [
    "func_def.body.body[1].body.body[1].expr"
   ]
  },
  {
   "cell_type": "code",
   "execution_count": 24,
   "id": "601c159a",
   "metadata": {},
   "outputs": [
    {
     "data": {
      "text/plain": [
       "[<mypy.nodes.NameExpr at 0x786a1c236550>,\n",
       " <mypy.nodes.CallExpr at 0x786a1c2366d0>]"
      ]
     },
     "execution_count": 24,
     "metadata": {},
     "output_type": "execute_result"
    }
   ],
   "source": [
    "func_def.body.body[1].body.body[1].expr.operands"
   ]
  },
  {
   "cell_type": "code",
   "execution_count": 25,
   "id": "49a9b599",
   "metadata": {},
   "outputs": [
    {
     "data": {
      "text/plain": [
       "<mypy.nodes.CallExpr at 0x786a1c2366d0>"
      ]
     },
     "execution_count": 25,
     "metadata": {},
     "output_type": "execute_result"
    }
   ],
   "source": [
    "func_def.body.body[1].body.body[1].expr.operands[1]"
   ]
  },
  {
   "cell_type": "markdown",
   "id": "287943d1",
   "metadata": {},
   "source": [
    "This is pointing at the function call `len(collection)`."
   ]
  },
  {
   "cell_type": "code",
   "execution_count": 26,
   "id": "9c0a0cf0",
   "metadata": {},
   "outputs": [
    {
     "data": {
      "text/plain": [
       "<mypy.nodes.NameExpr at 0x786a1c236650>"
      ]
     },
     "execution_count": 26,
     "metadata": {},
     "output_type": "execute_result"
    }
   ],
   "source": [
    "func_def.body.body[1].body.body[1].expr.operands[1].callee"
   ]
  },
  {
   "cell_type": "code",
   "execution_count": 27,
   "id": "0d05278e",
   "metadata": {},
   "outputs": [
    {
     "data": {
      "text/plain": [
       "<mypy.nodes.FuncDef at 0x786a05742870>"
      ]
     },
     "execution_count": 27,
     "metadata": {},
     "output_type": "execute_result"
    }
   ],
   "source": [
    "func_def.body.body[1].body.body[1].expr.operands[1].callee.node"
   ]
  },
  {
   "cell_type": "markdown",
   "id": "c77ada14",
   "metadata": {},
   "source": [
    "`len` resolves to a function definition (from Typeshed)!"
   ]
  },
  {
   "cell_type": "code",
   "execution_count": 28,
   "id": "7129f642",
   "metadata": {},
   "outputs": [
    {
     "data": {
      "text/plain": [
       "def (typing.Sized) -> builtins.int"
      ]
     },
     "execution_count": 28,
     "metadata": {},
     "output_type": "execute_result"
    }
   ],
   "source": [
    "func_def.body.body[1].body.body[1].expr.operands[1].callee.node.type"
   ]
  },
  {
   "cell_type": "markdown",
   "id": "a65ca80b",
   "metadata": {},
   "source": [
    "We can retrieve its type!"
   ]
  },
  {
   "cell_type": "code",
   "execution_count": 29,
   "id": "6800cba7",
   "metadata": {},
   "outputs": [
    {
     "data": {
      "text/plain": [
       "[typing.Sized]"
      ]
     },
     "execution_count": 29,
     "metadata": {},
     "output_type": "execute_result"
    }
   ],
   "source": [
    "func_def.body.body[1].body.body[1].expr.operands[1].callee.node.type.arg_types"
   ]
  },
  {
   "cell_type": "code",
   "execution_count": 30,
   "id": "5fe466b4",
   "metadata": {},
   "outputs": [
    {
     "data": {
      "text/plain": [
       "typing.Sized"
      ]
     },
     "execution_count": 30,
     "metadata": {},
     "output_type": "execute_result"
    }
   ],
   "source": [
    "func_def.body.body[1].body.body[1].expr.operands[1].callee.node.type.arg_types[0]"
   ]
  },
  {
   "cell_type": "code",
   "execution_count": 31,
   "id": "755c198b",
   "metadata": {},
   "outputs": [],
   "source": [
    "arg_type = func_def.body.body[1].body.body[1].expr.operands[1].callee.node.type.arg_types[0]"
   ]
  },
  {
   "cell_type": "code",
   "execution_count": 32,
   "id": "13bd828f",
   "metadata": {},
   "outputs": [
    {
     "data": {
      "text/plain": [
       "mypy.types.Instance"
      ]
     },
     "execution_count": 32,
     "metadata": {},
     "output_type": "execute_result"
    }
   ],
   "source": [
    "type(arg_type)"
   ]
  },
  {
   "cell_type": "code",
   "execution_count": 33,
   "id": "6bf425f7",
   "metadata": {},
   "outputs": [
    {
     "data": {
      "text/plain": [
       "builtins.int"
      ]
     },
     "execution_count": 33,
     "metadata": {},
     "output_type": "execute_result"
    }
   ],
   "source": [
    "func_def.body.body[1].body.body[1].expr.operands[1].callee.node.type.ret_type"
   ]
  },
  {
   "cell_type": "code",
   "execution_count": 34,
   "id": "4c65a1d3",
   "metadata": {},
   "outputs": [],
   "source": [
    "ret_type = func_def.body.body[1].body.body[1].expr.operands[1].callee.node.type.ret_type"
   ]
  },
  {
   "cell_type": "code",
   "execution_count": 35,
   "id": "5152cb79",
   "metadata": {},
   "outputs": [
    {
     "data": {
      "text/plain": [
       "mypy.types.Instance"
      ]
     },
     "execution_count": 35,
     "metadata": {},
     "output_type": "execute_result"
    }
   ],
   "source": [
    "type(ret_type)"
   ]
  },
  {
   "cell_type": "markdown",
   "id": "d2f061cf",
   "metadata": {},
   "source": [
    "What's the definition of `typing.Sized`?"
   ]
  },
  {
   "cell_type": "code",
   "execution_count": 36,
   "id": "efbd5169",
   "metadata": {},
   "outputs": [
    {
     "data": {
      "text/plain": [
       "<TypeInfo typing.Sized>"
      ]
     },
     "execution_count": 36,
     "metadata": {},
     "output_type": "execute_result"
    }
   ],
   "source": [
    "arg_type.type"
   ]
  },
  {
   "cell_type": "code",
   "execution_count": 37,
   "id": "8974e619",
   "metadata": {},
   "outputs": [
    {
     "data": {
      "text/plain": [
       "{'__len__': <mypy.nodes.SymbolTableNode at 0x786a06a8b590>}"
      ]
     },
     "execution_count": 37,
     "metadata": {},
     "output_type": "execute_result"
    }
   ],
   "source": [
    "arg_type.type.names"
   ]
  },
  {
   "cell_type": "markdown",
   "id": "880e19fc",
   "metadata": {},
   "source": [
    "Let's look at the class definition here:\n",
    "\n",
    "```python\n",
    "class Counter:\n",
    "    def __init__(self):\n",
    "        # Instance variable to track counts\n",
    "        self.count = 0\n",
    "    global_counter = global_counter + 1 # Shadows name in LHS, but refers to name in RHS\n",
    "    def update_counter(self):\n",
    "        # Local import within the function for demonstration\n",
    "        import time\n",
    "\n",
    "        # Method variable\n",
    "        method_counter = 0\n",
    "\n",
    "        def increment():\n",
    "            # Use nonlocal to modify method_counter\n",
    "            nonlocal method_counter\n",
    "            # Use global to modify the global_counter\n",
    "            global global_counter\n",
    "\n",
    "            try:\n",
    "                # Use the globally imported global_randint function directly\n",
    "                increment = global_randint(1, 10)\n",
    "                # Simulate a random error\n",
    "                if choice([True, False]):\n",
    "                    raise ValueError(\"Simulated error\")\n",
    "\n",
    "                method_counter += increment\n",
    "                global_counter += increment\n",
    "                self.count += increment\n",
    "\n",
    "                # Demonstrating the use of the locally imported time module\n",
    "                time.sleep(1)  # Sleep for 1 second to simulate a delay\n",
    "\n",
    "                print(f\"Method counter incremented by {increment}, total method counter: {method_counter}\")\n",
    "                print(f\"Global counter updated to {global_counter}, instance counter: {self.count}\")\n",
    "            \n",
    "            except ValueError as e:\n",
    "                print(f\"Exception caught: {e}\")\n",
    "\n",
    "        increment()\n",
    "    print(update_counter)\n",
    "    print(global_counter) # handles shadowed name\n",
    "```"
   ]
  },
  {
   "cell_type": "code",
   "execution_count": 41,
   "id": "4f0de37c",
   "metadata": {},
   "outputs": [],
   "source": [
    "class_def = mypy_file.defs[8]"
   ]
  },
  {
   "cell_type": "code",
   "execution_count": 42,
   "id": "d16a30d4",
   "metadata": {},
   "outputs": [
    {
     "data": {
      "text/plain": [
       "<mypy.nodes.ClassDef at 0x786a1c21a7e0>"
      ]
     },
     "execution_count": 42,
     "metadata": {},
     "output_type": "execute_result"
    }
   ],
   "source": [
    "class_def"
   ]
  },
  {
   "cell_type": "code",
   "execution_count": 44,
   "id": "96704e03",
   "metadata": {},
   "outputs": [
    {
     "data": {
      "text/plain": [
       "<mypy.nodes.Block at 0x786a1c1c6770>"
      ]
     },
     "execution_count": 44,
     "metadata": {},
     "output_type": "execute_result"
    }
   ],
   "source": [
    "class_def.defs"
   ]
  },
  {
   "cell_type": "code",
   "execution_count": 45,
   "id": "09fb422b",
   "metadata": {},
   "outputs": [
    {
     "data": {
      "text/plain": [
       "[<mypy.nodes.FuncDef at 0x786a1c1c2120>,\n",
       " <mypy.nodes.AssignmentStmt at 0x786a1c23de50>,\n",
       " <mypy.nodes.FuncDef at 0x786a1c1c22c0>,\n",
       " <mypy.nodes.ExpressionStmt at 0x786a1c1c66b0>,\n",
       " <mypy.nodes.ExpressionStmt at 0x786a1c1c6710>]"
      ]
     },
     "execution_count": 45,
     "metadata": {},
     "output_type": "execute_result"
    }
   ],
   "source": [
    "class_def.defs.body"
   ]
  },
  {
   "cell_type": "markdown",
   "id": "0034538a",
   "metadata": {},
   "source": [
    "Let's look at its `__init__` method."
   ]
  },
  {
   "cell_type": "code",
   "execution_count": 46,
   "id": "317d9829",
   "metadata": {},
   "outputs": [
    {
     "data": {
      "text/plain": [
       "<mypy.nodes.FuncDef at 0x786a1c1c2120>"
      ]
     },
     "execution_count": 46,
     "metadata": {},
     "output_type": "execute_result"
    }
   ],
   "source": [
    "class_def.defs.body[0]"
   ]
  },
  {
   "cell_type": "code",
   "execution_count": 49,
   "id": "d8df9204",
   "metadata": {},
   "outputs": [],
   "source": [
    "class_def.defs.body[0].type"
   ]
  },
  {
   "cell_type": "code",
   "execution_count": 50,
   "id": "939fb3ac",
   "metadata": {},
   "outputs": [
    {
     "data": {
      "text/plain": [
       "[<mypy.nodes.Argument at 0x786a1c23f2f0>]"
      ]
     },
     "execution_count": 50,
     "metadata": {},
     "output_type": "execute_result"
    }
   ],
   "source": [
    "class_def.defs.body[0].arguments"
   ]
  },
  {
   "cell_type": "code",
   "execution_count": 51,
   "id": "35766672",
   "metadata": {},
   "outputs": [
    {
     "data": {
      "text/plain": [
       "<mypy.nodes.Argument at 0x786a1c23f2f0>"
      ]
     },
     "execution_count": 51,
     "metadata": {},
     "output_type": "execute_result"
    }
   ],
   "source": [
    "class_def.defs.body[0].arguments[0]"
   ]
  },
  {
   "cell_type": "code",
   "execution_count": 54,
   "id": "edb4ac76",
   "metadata": {},
   "outputs": [
    {
     "data": {
      "text/plain": [
       "<mypy.nodes.Var at 0x786a1c231440>"
      ]
     },
     "execution_count": 54,
     "metadata": {},
     "output_type": "execute_result"
    }
   ],
   "source": [
    "class_def.defs.body[0].arguments[0].variable"
   ]
  },
  {
   "cell_type": "code",
   "execution_count": 62,
   "id": "65d1edc5",
   "metadata": {},
   "outputs": [
    {
     "data": {
      "text/plain": [
       "True"
      ]
     },
     "execution_count": 62,
     "metadata": {},
     "output_type": "execute_result"
    }
   ],
   "source": [
    "class_def.defs.body[0].arguments[0].variable.is_self"
   ]
  },
  {
   "cell_type": "markdown",
   "id": "90632e9d",
   "metadata": {},
   "source": [
    "We can statically determine that it is `self`!"
   ]
  },
  {
   "cell_type": "code",
   "execution_count": 65,
   "id": "cfaf0fef",
   "metadata": {},
   "outputs": [
    {
     "data": {
      "text/plain": [
       "<mypy.nodes.Block at 0x786a1c1c16b0>"
      ]
     },
     "execution_count": 65,
     "metadata": {},
     "output_type": "execute_result"
    }
   ],
   "source": [
    "class_def.defs.body[0].body"
   ]
  },
  {
   "cell_type": "code",
   "execution_count": 66,
   "id": "34e02ee9",
   "metadata": {},
   "outputs": [
    {
     "data": {
      "text/plain": [
       "[<mypy.nodes.AssignmentStmt at 0x786a1c23dc50>]"
      ]
     },
     "execution_count": 66,
     "metadata": {},
     "output_type": "execute_result"
    }
   ],
   "source": [
    "class_def.defs.body[0].body.body"
   ]
  },
  {
   "cell_type": "code",
   "execution_count": 67,
   "id": "fed4b9ed",
   "metadata": {},
   "outputs": [
    {
     "data": {
      "text/plain": [
       "<mypy.nodes.AssignmentStmt at 0x786a1c23dc50>"
      ]
     },
     "execution_count": 67,
     "metadata": {},
     "output_type": "execute_result"
    }
   ],
   "source": [
    "class_def.defs.body[0].body.body[0]"
   ]
  },
  {
   "cell_type": "code",
   "execution_count": 68,
   "id": "e5425506",
   "metadata": {},
   "outputs": [
    {
     "data": {
      "text/plain": [
       "[<mypy.nodes.MemberExpr at 0x786a1c231560>]"
      ]
     },
     "execution_count": 68,
     "metadata": {},
     "output_type": "execute_result"
    }
   ],
   "source": [
    "class_def.defs.body[0].body.body[0].lvalues"
   ]
  },
  {
   "cell_type": "code",
   "execution_count": 69,
   "id": "d341e6ab",
   "metadata": {},
   "outputs": [
    {
     "data": {
      "text/plain": [
       "<mypy.nodes.MemberExpr at 0x786a1c231560>"
      ]
     },
     "execution_count": 69,
     "metadata": {},
     "output_type": "execute_result"
    }
   ],
   "source": [
    "class_def.defs.body[0].body.body[0].lvalues[0]"
   ]
  },
  {
   "cell_type": "code",
   "execution_count": 70,
   "id": "07da6c4a",
   "metadata": {},
   "outputs": [
    {
     "data": {
      "text/plain": [
       "<mypy.nodes.Var at 0x786a05274b00>"
      ]
     },
     "execution_count": 70,
     "metadata": {},
     "output_type": "execute_result"
    }
   ],
   "source": [
    "class_def.defs.body[0].body.body[0].lvalues[0].node"
   ]
  },
  {
   "cell_type": "code",
   "execution_count": 74,
   "id": "307a63a4",
   "metadata": {},
   "outputs": [
    {
     "data": {
      "text/plain": [
       "'count'"
      ]
     },
     "execution_count": 74,
     "metadata": {},
     "output_type": "execute_result"
    }
   ],
   "source": [
    "class_def.defs.body[0].body.body[0].lvalues[0].node.name()"
   ]
  },
  {
   "cell_type": "code",
   "execution_count": 75,
   "id": "6e382388",
   "metadata": {},
   "outputs": [
    {
     "data": {
      "text/plain": [
       "<mypy.nodes.NameExpr at 0x786a1c23dbd0>"
      ]
     },
     "execution_count": 75,
     "metadata": {},
     "output_type": "execute_result"
    }
   ],
   "source": [
    "class_def.defs.body[0].body.body[0].lvalues[0].expr"
   ]
  },
  {
   "cell_type": "code",
   "execution_count": 77,
   "id": "1b054820",
   "metadata": {},
   "outputs": [
    {
     "data": {
      "text/plain": [
       "<mypy.nodes.Var at 0x786a1c231440>"
      ]
     },
     "execution_count": 77,
     "metadata": {},
     "output_type": "execute_result"
    }
   ],
   "source": [
    "class_def.defs.body[0].body.body[0].lvalues[0].expr.node"
   ]
  },
  {
   "cell_type": "code",
   "execution_count": null,
   "id": "e4c2de6f",
   "metadata": {},
   "outputs": [],
   "source": []
  }
 ],
 "metadata": {
  "kernelspec": {
   "display_name": "Python 3 (ipykernel)",
   "language": "python",
   "name": "python3"
  },
  "language_info": {
   "codemirror_mode": {
    "name": "ipython",
    "version": 3
   },
   "file_extension": ".py",
   "mimetype": "text/x-python",
   "name": "python",
   "nbconvert_exporter": "python",
   "pygments_lexer": "ipython3",
   "version": "3.7.16"
  }
 },
 "nbformat": 4,
 "nbformat_minor": 5
}
